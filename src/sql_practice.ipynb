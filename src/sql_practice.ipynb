{
 "cells": [
  {
   "attachments": {},
   "cell_type": "markdown",
   "id": "675fa850",
   "metadata": {},
   "source": [
    "# SQL Practice Notebook"
   ]
  },
  {
   "attachments": {},
   "cell_type": "markdown",
   "id": "cf21a444",
   "metadata": {},
   "source": [
    "This notebook provides a series of SQL exercises based on a simulated database. Use the `run_sql()` function to execute queries and explore the data."
   ]
  },
  {
   "cell_type": "code",
   "execution_count": 1,
   "id": "2c9b76c6",
   "metadata": {},
   "outputs": [],
   "source": [
    "\n",
    "import sqlite3\n",
    "import pandas as pd\n",
    "\n",
    "DB_PATH = \"../data/sql_practice.db\"\n",
    "\n",
    "def run_sql(query, params=None):\n",
    "    \"\"\"\n",
    "    Execute a SQL query against the SQLite database and return a DataFrame.\n",
    "    \"\"\"\n",
    "    with sqlite3.connect(DB_PATH) as conn:\n",
    "        return pd.read_sql_query(query, conn, params=params)\n",
    "\n",
    "# Example usage:\n",
    "# df = run_sql(\"SELECT * FROM contractors LIMIT 5\")\n",
    "# df\n"
   ]
  },
  {
   "cell_type": "markdown",
   "id": "e3665d4b",
   "metadata": {},
   "source": [
    "## Level 1: Fundamentals"
   ]
  },
  {
   "cell_type": "markdown",
   "id": "f8af2dcb",
   "metadata": {},
   "source": [
    "### Question 1: Get all contractors located in Miami."
   ]
  },
  {
   "cell_type": "code",
   "execution_count": 19,
   "id": "e6037a81",
   "metadata": {},
   "outputs": [
    {
     "data": {
      "text/html": [
       "<div>\n",
       "<style scoped>\n",
       "    .dataframe tbody tr th:only-of-type {\n",
       "        vertical-align: middle;\n",
       "    }\n",
       "\n",
       "    .dataframe tbody tr th {\n",
       "        vertical-align: top;\n",
       "    }\n",
       "\n",
       "    .dataframe thead th {\n",
       "        text-align: right;\n",
       "    }\n",
       "</style>\n",
       "<table border=\"1\" class=\"dataframe\">\n",
       "  <thead>\n",
       "    <tr style=\"text-align: right;\">\n",
       "      <th></th>\n",
       "      <th>name</th>\n",
       "    </tr>\n",
       "  </thead>\n",
       "  <tbody>\n",
       "    <tr>\n",
       "      <th>0</th>\n",
       "      <td>contractors</td>\n",
       "    </tr>\n",
       "    <tr>\n",
       "      <th>1</th>\n",
       "      <td>events</td>\n",
       "    </tr>\n",
       "    <tr>\n",
       "      <th>2</th>\n",
       "      <td>jobs</td>\n",
       "    </tr>\n",
       "    <tr>\n",
       "      <th>3</th>\n",
       "      <td>photos</td>\n",
       "    </tr>\n",
       "  </tbody>\n",
       "</table>\n",
       "</div>"
      ],
      "text/plain": [
       "          name\n",
       "0  contractors\n",
       "1       events\n",
       "2         jobs\n",
       "3       photos"
      ]
     },
     "execution_count": 19,
     "metadata": {},
     "output_type": "execute_result"
    }
   ],
   "source": [
    "df = run_sql(\"SELECT name FROM sqlite_master WHERE type='table' ORDER BY name\")\n",
    "df"
   ]
  },
  {
   "cell_type": "code",
   "execution_count": 18,
   "id": "7c014ebe",
   "metadata": {},
   "outputs": [
    {
     "data": {
      "text/html": [
       "<div>\n",
       "<style scoped>\n",
       "    .dataframe tbody tr th:only-of-type {\n",
       "        vertical-align: middle;\n",
       "    }\n",
       "\n",
       "    .dataframe tbody tr th {\n",
       "        vertical-align: top;\n",
       "    }\n",
       "\n",
       "    .dataframe thead th {\n",
       "        text-align: right;\n",
       "    }\n",
       "</style>\n",
       "<table border=\"1\" class=\"dataframe\">\n",
       "  <thead>\n",
       "    <tr style=\"text-align: right;\">\n",
       "      <th></th>\n",
       "      <th>id</th>\n",
       "      <th>name</th>\n",
       "      <th>city</th>\n",
       "      <th>state</th>\n",
       "    </tr>\n",
       "  </thead>\n",
       "  <tbody>\n",
       "    <tr>\n",
       "      <th>0</th>\n",
       "      <td>9</td>\n",
       "      <td>Dynamic Contractors</td>\n",
       "      <td>Miami</td>\n",
       "      <td>FL</td>\n",
       "    </tr>\n",
       "  </tbody>\n",
       "</table>\n",
       "</div>"
      ],
      "text/plain": [
       "   id                 name   city state\n",
       "0   9  Dynamic Contractors  Miami    FL"
      ]
     },
     "execution_count": 18,
     "metadata": {},
     "output_type": "execute_result"
    }
   ],
   "source": [
    "df = run_sql(\"SELECT * FROM contractors WHERE city = :city\", params={\"city\":\"Miami\"})\n",
    "df"
   ]
  },
  {
   "cell_type": "markdown",
   "id": "633daeda",
   "metadata": {},
   "source": [
    "### Question 2: Find the 5 most recent uploaded photos."
   ]
  },
  {
   "cell_type": "code",
   "execution_count": 22,
   "id": "01a54bb3",
   "metadata": {},
   "outputs": [
    {
     "data": {
      "text/html": [
       "<div>\n",
       "<style scoped>\n",
       "    .dataframe tbody tr th:only-of-type {\n",
       "        vertical-align: middle;\n",
       "    }\n",
       "\n",
       "    .dataframe tbody tr th {\n",
       "        vertical-align: top;\n",
       "    }\n",
       "\n",
       "    .dataframe thead th {\n",
       "        text-align: right;\n",
       "    }\n",
       "</style>\n",
       "<table border=\"1\" class=\"dataframe\">\n",
       "  <thead>\n",
       "    <tr style=\"text-align: right;\">\n",
       "      <th></th>\n",
       "      <th>id</th>\n",
       "      <th>job_id</th>\n",
       "      <th>contractor_id</th>\n",
       "      <th>upload_time</th>\n",
       "      <th>size</th>\n",
       "      <th>description</th>\n",
       "    </tr>\n",
       "  </thead>\n",
       "  <tbody>\n",
       "    <tr>\n",
       "      <th>0</th>\n",
       "      <td>467</td>\n",
       "      <td>36</td>\n",
       "      <td>9</td>\n",
       "      <td>2025-01-25 14:00:00</td>\n",
       "      <td>4774</td>\n",
       "      <td>Photo 14 for job 36</td>\n",
       "    </tr>\n",
       "    <tr>\n",
       "      <th>1</th>\n",
       "      <td>468</td>\n",
       "      <td>36</td>\n",
       "      <td>9</td>\n",
       "      <td>2025-01-25 14:00:00</td>\n",
       "      <td>2017</td>\n",
       "      <td>Photo 15 for job 36</td>\n",
       "    </tr>\n",
       "    <tr>\n",
       "      <th>2</th>\n",
       "      <td>194</td>\n",
       "      <td>13</td>\n",
       "      <td>4</td>\n",
       "      <td>2025-01-22 10:00:00</td>\n",
       "      <td>600</td>\n",
       "      <td>Photo 6 for job 13</td>\n",
       "    </tr>\n",
       "    <tr>\n",
       "      <th>3</th>\n",
       "      <td>471</td>\n",
       "      <td>36</td>\n",
       "      <td>9</td>\n",
       "      <td>2025-01-22 09:00:00</td>\n",
       "      <td>3606</td>\n",
       "      <td>Photo 18 for job 36</td>\n",
       "    </tr>\n",
       "    <tr>\n",
       "      <th>4</th>\n",
       "      <td>465</td>\n",
       "      <td>36</td>\n",
       "      <td>9</td>\n",
       "      <td>2025-01-22 05:00:00</td>\n",
       "      <td>4007</td>\n",
       "      <td>Photo 12 for job 36</td>\n",
       "    </tr>\n",
       "  </tbody>\n",
       "</table>\n",
       "</div>"
      ],
      "text/plain": [
       "    id  job_id  contractor_id          upload_time  size          description\n",
       "0  467      36              9  2025-01-25 14:00:00  4774  Photo 14 for job 36\n",
       "1  468      36              9  2025-01-25 14:00:00  2017  Photo 15 for job 36\n",
       "2  194      13              4  2025-01-22 10:00:00   600   Photo 6 for job 13\n",
       "3  471      36              9  2025-01-22 09:00:00  3606  Photo 18 for job 36\n",
       "4  465      36              9  2025-01-22 05:00:00  4007  Photo 12 for job 36"
      ]
     },
     "execution_count": 22,
     "metadata": {},
     "output_type": "execute_result"
    }
   ],
   "source": [
    "df = run_sql(\"SELECT * FROM photos ORDER BY upload_time DESC LIMIT 5\")\n",
    "df"
   ]
  },
  {
   "cell_type": "markdown",
   "id": "4f0906dc",
   "metadata": {},
   "source": [
    "### Question 3: Count how many jobs each contractor has."
   ]
  },
  {
   "cell_type": "code",
   "execution_count": 6,
   "id": "43b28978",
   "metadata": {},
   "outputs": [
    {
     "data": {
      "text/html": [
       "<div>\n",
       "<style scoped>\n",
       "    .dataframe tbody tr th:only-of-type {\n",
       "        vertical-align: middle;\n",
       "    }\n",
       "\n",
       "    .dataframe tbody tr th {\n",
       "        vertical-align: top;\n",
       "    }\n",
       "\n",
       "    .dataframe thead th {\n",
       "        text-align: right;\n",
       "    }\n",
       "</style>\n",
       "<table border=\"1\" class=\"dataframe\">\n",
       "  <thead>\n",
       "    <tr style=\"text-align: right;\">\n",
       "      <th></th>\n",
       "      <th>num_of_jobs</th>\n",
       "    </tr>\n",
       "  </thead>\n",
       "  <tbody>\n",
       "    <tr>\n",
       "      <th>0</th>\n",
       "      <td>4</td>\n",
       "    </tr>\n",
       "    <tr>\n",
       "      <th>1</th>\n",
       "      <td>4</td>\n",
       "    </tr>\n",
       "    <tr>\n",
       "      <th>2</th>\n",
       "      <td>4</td>\n",
       "    </tr>\n",
       "    <tr>\n",
       "      <th>3</th>\n",
       "      <td>4</td>\n",
       "    </tr>\n",
       "    <tr>\n",
       "      <th>4</th>\n",
       "      <td>4</td>\n",
       "    </tr>\n",
       "    <tr>\n",
       "      <th>5</th>\n",
       "      <td>4</td>\n",
       "    </tr>\n",
       "    <tr>\n",
       "      <th>6</th>\n",
       "      <td>4</td>\n",
       "    </tr>\n",
       "    <tr>\n",
       "      <th>7</th>\n",
       "      <td>4</td>\n",
       "    </tr>\n",
       "    <tr>\n",
       "      <th>8</th>\n",
       "      <td>4</td>\n",
       "    </tr>\n",
       "    <tr>\n",
       "      <th>9</th>\n",
       "      <td>4</td>\n",
       "    </tr>\n",
       "  </tbody>\n",
       "</table>\n",
       "</div>"
      ],
      "text/plain": [
       "   num_of_jobs\n",
       "0            4\n",
       "1            4\n",
       "2            4\n",
       "3            4\n",
       "4            4\n",
       "5            4\n",
       "6            4\n",
       "7            4\n",
       "8            4\n",
       "9            4"
      ]
     },
     "execution_count": 6,
     "metadata": {},
     "output_type": "execute_result"
    }
   ],
   "source": [
    "df = run_sql(\"SELECT COUNT(contractor_id) as num_of_jobs FROM jobs GROUP BY contractor_id\")\n",
    "df"
   ]
  },
  {
   "cell_type": "markdown",
   "id": "309eadc6",
   "metadata": {},
   "source": [
    "### Question 4: Get average photo size per job."
   ]
  },
  {
   "cell_type": "code",
   "execution_count": 8,
   "id": "6ffe6447",
   "metadata": {},
   "outputs": [
    {
     "data": {
      "text/html": [
       "<div>\n",
       "<style scoped>\n",
       "    .dataframe tbody tr th:only-of-type {\n",
       "        vertical-align: middle;\n",
       "    }\n",
       "\n",
       "    .dataframe tbody tr th {\n",
       "        vertical-align: top;\n",
       "    }\n",
       "\n",
       "    .dataframe thead th {\n",
       "        text-align: right;\n",
       "    }\n",
       "</style>\n",
       "<table border=\"1\" class=\"dataframe\">\n",
       "  <thead>\n",
       "    <tr style=\"text-align: right;\">\n",
       "      <th></th>\n",
       "      <th>average_size_photo</th>\n",
       "    </tr>\n",
       "  </thead>\n",
       "  <tbody>\n",
       "    <tr>\n",
       "      <th>0</th>\n",
       "      <td>2686.882353</td>\n",
       "    </tr>\n",
       "    <tr>\n",
       "      <th>1</th>\n",
       "      <td>2497.785714</td>\n",
       "    </tr>\n",
       "    <tr>\n",
       "      <th>2</th>\n",
       "      <td>2273.333333</td>\n",
       "    </tr>\n",
       "    <tr>\n",
       "      <th>3</th>\n",
       "      <td>2200.400000</td>\n",
       "    </tr>\n",
       "    <tr>\n",
       "      <th>4</th>\n",
       "      <td>2692.947368</td>\n",
       "    </tr>\n",
       "    <tr>\n",
       "      <th>5</th>\n",
       "      <td>2474.250000</td>\n",
       "    </tr>\n",
       "    <tr>\n",
       "      <th>6</th>\n",
       "      <td>2431.050000</td>\n",
       "    </tr>\n",
       "    <tr>\n",
       "      <th>7</th>\n",
       "      <td>2746.500000</td>\n",
       "    </tr>\n",
       "    <tr>\n",
       "      <th>8</th>\n",
       "      <td>2344.846154</td>\n",
       "    </tr>\n",
       "    <tr>\n",
       "      <th>9</th>\n",
       "      <td>1592.454545</td>\n",
       "    </tr>\n",
       "    <tr>\n",
       "      <th>10</th>\n",
       "      <td>3277.500000</td>\n",
       "    </tr>\n",
       "    <tr>\n",
       "      <th>11</th>\n",
       "      <td>2496.866667</td>\n",
       "    </tr>\n",
       "    <tr>\n",
       "      <th>12</th>\n",
       "      <td>1685.363636</td>\n",
       "    </tr>\n",
       "    <tr>\n",
       "      <th>13</th>\n",
       "      <td>2261.666667</td>\n",
       "    </tr>\n",
       "    <tr>\n",
       "      <th>14</th>\n",
       "      <td>2583.750000</td>\n",
       "    </tr>\n",
       "    <tr>\n",
       "      <th>15</th>\n",
       "      <td>2545.500000</td>\n",
       "    </tr>\n",
       "    <tr>\n",
       "      <th>16</th>\n",
       "      <td>3306.833333</td>\n",
       "    </tr>\n",
       "    <tr>\n",
       "      <th>17</th>\n",
       "      <td>3175.333333</td>\n",
       "    </tr>\n",
       "    <tr>\n",
       "      <th>18</th>\n",
       "      <td>3385.769231</td>\n",
       "    </tr>\n",
       "    <tr>\n",
       "      <th>19</th>\n",
       "      <td>2785.444444</td>\n",
       "    </tr>\n",
       "    <tr>\n",
       "      <th>20</th>\n",
       "      <td>2242.100000</td>\n",
       "    </tr>\n",
       "    <tr>\n",
       "      <th>21</th>\n",
       "      <td>2175.875000</td>\n",
       "    </tr>\n",
       "    <tr>\n",
       "      <th>22</th>\n",
       "      <td>3009.500000</td>\n",
       "    </tr>\n",
       "    <tr>\n",
       "      <th>23</th>\n",
       "      <td>2302.923077</td>\n",
       "    </tr>\n",
       "    <tr>\n",
       "      <th>24</th>\n",
       "      <td>2841.562500</td>\n",
       "    </tr>\n",
       "    <tr>\n",
       "      <th>25</th>\n",
       "      <td>1968.545455</td>\n",
       "    </tr>\n",
       "    <tr>\n",
       "      <th>26</th>\n",
       "      <td>2275.100000</td>\n",
       "    </tr>\n",
       "    <tr>\n",
       "      <th>27</th>\n",
       "      <td>2114.411765</td>\n",
       "    </tr>\n",
       "    <tr>\n",
       "      <th>28</th>\n",
       "      <td>2828.266667</td>\n",
       "    </tr>\n",
       "    <tr>\n",
       "      <th>29</th>\n",
       "      <td>2401.250000</td>\n",
       "    </tr>\n",
       "    <tr>\n",
       "      <th>30</th>\n",
       "      <td>2388.153846</td>\n",
       "    </tr>\n",
       "    <tr>\n",
       "      <th>31</th>\n",
       "      <td>2368.615385</td>\n",
       "    </tr>\n",
       "    <tr>\n",
       "      <th>32</th>\n",
       "      <td>2158.571429</td>\n",
       "    </tr>\n",
       "    <tr>\n",
       "      <th>33</th>\n",
       "      <td>2799.642857</td>\n",
       "    </tr>\n",
       "    <tr>\n",
       "      <th>34</th>\n",
       "      <td>2966.636364</td>\n",
       "    </tr>\n",
       "    <tr>\n",
       "      <th>35</th>\n",
       "      <td>2856.100000</td>\n",
       "    </tr>\n",
       "    <tr>\n",
       "      <th>36</th>\n",
       "      <td>3192.166667</td>\n",
       "    </tr>\n",
       "    <tr>\n",
       "      <th>37</th>\n",
       "      <td>2415.555556</td>\n",
       "    </tr>\n",
       "    <tr>\n",
       "      <th>38</th>\n",
       "      <td>3573.333333</td>\n",
       "    </tr>\n",
       "    <tr>\n",
       "      <th>39</th>\n",
       "      <td>2175.050000</td>\n",
       "    </tr>\n",
       "  </tbody>\n",
       "</table>\n",
       "</div>"
      ],
      "text/plain": [
       "    average_size_photo\n",
       "0          2686.882353\n",
       "1          2497.785714\n",
       "2          2273.333333\n",
       "3          2200.400000\n",
       "4          2692.947368\n",
       "5          2474.250000\n",
       "6          2431.050000\n",
       "7          2746.500000\n",
       "8          2344.846154\n",
       "9          1592.454545\n",
       "10         3277.500000\n",
       "11         2496.866667\n",
       "12         1685.363636\n",
       "13         2261.666667\n",
       "14         2583.750000\n",
       "15         2545.500000\n",
       "16         3306.833333\n",
       "17         3175.333333\n",
       "18         3385.769231\n",
       "19         2785.444444\n",
       "20         2242.100000\n",
       "21         2175.875000\n",
       "22         3009.500000\n",
       "23         2302.923077\n",
       "24         2841.562500\n",
       "25         1968.545455\n",
       "26         2275.100000\n",
       "27         2114.411765\n",
       "28         2828.266667\n",
       "29         2401.250000\n",
       "30         2388.153846\n",
       "31         2368.615385\n",
       "32         2158.571429\n",
       "33         2799.642857\n",
       "34         2966.636364\n",
       "35         2856.100000\n",
       "36         3192.166667\n",
       "37         2415.555556\n",
       "38         3573.333333\n",
       "39         2175.050000"
      ]
     },
     "execution_count": 8,
     "metadata": {},
     "output_type": "execute_result"
    }
   ],
   "source": [
    "df = run_sql(\"SELECT AVG(size) as average_size_photo FROM photos GROUP BY job_id\")\n",
    "df"
   ]
  },
  {
   "cell_type": "markdown",
   "id": "065d7d2d",
   "metadata": {},
   "source": [
    "### Question 5: Find all contractors whose name contains 'Builders'."
   ]
  },
  {
   "cell_type": "code",
   "execution_count": 11,
   "id": "7fb6910d",
   "metadata": {},
   "outputs": [
    {
     "data": {
      "text/html": [
       "<div>\n",
       "<style scoped>\n",
       "    .dataframe tbody tr th:only-of-type {\n",
       "        vertical-align: middle;\n",
       "    }\n",
       "\n",
       "    .dataframe tbody tr th {\n",
       "        vertical-align: top;\n",
       "    }\n",
       "\n",
       "    .dataframe thead th {\n",
       "        text-align: right;\n",
       "    }\n",
       "</style>\n",
       "<table border=\"1\" class=\"dataframe\">\n",
       "  <thead>\n",
       "    <tr style=\"text-align: right;\">\n",
       "      <th></th>\n",
       "      <th>name</th>\n",
       "    </tr>\n",
       "  </thead>\n",
       "  <tbody>\n",
       "    <tr>\n",
       "      <th>0</th>\n",
       "      <td>Ace Builders</td>\n",
       "    </tr>\n",
       "    <tr>\n",
       "      <th>1</th>\n",
       "      <td>Innovative Builders</td>\n",
       "    </tr>\n",
       "  </tbody>\n",
       "</table>\n",
       "</div>"
      ],
      "text/plain": [
       "                  name\n",
       "0         Ace Builders\n",
       "1  Innovative Builders"
      ]
     },
     "execution_count": 11,
     "metadata": {},
     "output_type": "execute_result"
    }
   ],
   "source": [
    "df = run_sql(\"SELECT name FROM contractors WHERE name LIKE '%Builders%'\")\n",
    "df"
   ]
  },
  {
   "cell_type": "markdown",
   "id": "48413efd",
   "metadata": {},
   "source": [
    "### Question 6: List the names of contractors in alphabetical order."
   ]
  },
  {
   "cell_type": "code",
   "execution_count": 15,
   "id": "f1f09c46",
   "metadata": {},
   "outputs": [
    {
     "data": {
      "text/html": [
       "<div>\n",
       "<style scoped>\n",
       "    .dataframe tbody tr th:only-of-type {\n",
       "        vertical-align: middle;\n",
       "    }\n",
       "\n",
       "    .dataframe tbody tr th {\n",
       "        vertical-align: top;\n",
       "    }\n",
       "\n",
       "    .dataframe thead th {\n",
       "        text-align: right;\n",
       "    }\n",
       "</style>\n",
       "<table border=\"1\" class=\"dataframe\">\n",
       "  <thead>\n",
       "    <tr style=\"text-align: right;\">\n",
       "      <th></th>\n",
       "      <th>name</th>\n",
       "    </tr>\n",
       "  </thead>\n",
       "  <tbody>\n",
       "    <tr>\n",
       "      <th>0</th>\n",
       "      <td>Ace Builders</td>\n",
       "    </tr>\n",
       "    <tr>\n",
       "      <th>1</th>\n",
       "      <td>Cam Experts</td>\n",
       "    </tr>\n",
       "    <tr>\n",
       "      <th>2</th>\n",
       "      <td>ConstructIT</td>\n",
       "    </tr>\n",
       "    <tr>\n",
       "      <th>3</th>\n",
       "      <td>Dynamic Contractors</td>\n",
       "    </tr>\n",
       "    <tr>\n",
       "      <th>4</th>\n",
       "      <td>Innovative Builders</td>\n",
       "    </tr>\n",
       "    <tr>\n",
       "      <th>5</th>\n",
       "      <td>Photo Pro Contractors</td>\n",
       "    </tr>\n",
       "    <tr>\n",
       "      <th>6</th>\n",
       "      <td>Premier Builds</td>\n",
       "    </tr>\n",
       "    <tr>\n",
       "      <th>7</th>\n",
       "      <td>Quality Co</td>\n",
       "    </tr>\n",
       "    <tr>\n",
       "      <th>8</th>\n",
       "      <td>Smith Construction</td>\n",
       "    </tr>\n",
       "    <tr>\n",
       "      <th>9</th>\n",
       "      <td>Vision Contracting</td>\n",
       "    </tr>\n",
       "  </tbody>\n",
       "</table>\n",
       "</div>"
      ],
      "text/plain": [
       "                    name\n",
       "0           Ace Builders\n",
       "1            Cam Experts\n",
       "2            ConstructIT\n",
       "3    Dynamic Contractors\n",
       "4    Innovative Builders\n",
       "5  Photo Pro Contractors\n",
       "6         Premier Builds\n",
       "7             Quality Co\n",
       "8     Smith Construction\n",
       "9     Vision Contracting"
      ]
     },
     "execution_count": 15,
     "metadata": {},
     "output_type": "execute_result"
    }
   ],
   "source": [
    "df = run_sql(\"SELECT name FROM contractors ORDER BY name ASC\")\n",
    "df"
   ]
  },
  {
   "cell_type": "markdown",
   "id": "a20efbd1",
   "metadata": {},
   "source": [
    "## Level 2: Joins"
   ]
  },
  {
   "cell_type": "markdown",
   "id": "97e86e4e",
   "metadata": {},
   "source": [
    "### Question 7: List all job sites and their assigned contractors."
   ]
  },
  {
   "cell_type": "code",
   "execution_count": 19,
   "id": "f1b2f923",
   "metadata": {},
   "outputs": [
    {
     "data": {
      "text/html": [
       "<div>\n",
       "<style scoped>\n",
       "    .dataframe tbody tr th:only-of-type {\n",
       "        vertical-align: middle;\n",
       "    }\n",
       "\n",
       "    .dataframe tbody tr th {\n",
       "        vertical-align: top;\n",
       "    }\n",
       "\n",
       "    .dataframe thead th {\n",
       "        text-align: right;\n",
       "    }\n",
       "</style>\n",
       "<table border=\"1\" class=\"dataframe\">\n",
       "  <thead>\n",
       "    <tr style=\"text-align: right;\">\n",
       "      <th></th>\n",
       "      <th>contractor_id</th>\n",
       "      <th>status</th>\n",
       "      <th>name</th>\n",
       "      <th>city</th>\n",
       "      <th>state</th>\n",
       "    </tr>\n",
       "  </thead>\n",
       "  <tbody>\n",
       "    <tr>\n",
       "      <th>0</th>\n",
       "      <td>1</td>\n",
       "      <td>open</td>\n",
       "      <td>Smith Construction</td>\n",
       "      <td>Omaha</td>\n",
       "      <td>NE</td>\n",
       "    </tr>\n",
       "    <tr>\n",
       "      <th>1</th>\n",
       "      <td>1</td>\n",
       "      <td>closed</td>\n",
       "      <td>Smith Construction</td>\n",
       "      <td>Omaha</td>\n",
       "      <td>NE</td>\n",
       "    </tr>\n",
       "    <tr>\n",
       "      <th>2</th>\n",
       "      <td>1</td>\n",
       "      <td>open</td>\n",
       "      <td>Smith Construction</td>\n",
       "      <td>Omaha</td>\n",
       "      <td>NE</td>\n",
       "    </tr>\n",
       "    <tr>\n",
       "      <th>3</th>\n",
       "      <td>1</td>\n",
       "      <td>closed</td>\n",
       "      <td>Smith Construction</td>\n",
       "      <td>Omaha</td>\n",
       "      <td>NE</td>\n",
       "    </tr>\n",
       "    <tr>\n",
       "      <th>4</th>\n",
       "      <td>2</td>\n",
       "      <td>open</td>\n",
       "      <td>Ace Builders</td>\n",
       "      <td>Chicago</td>\n",
       "      <td>IL</td>\n",
       "    </tr>\n",
       "    <tr>\n",
       "      <th>5</th>\n",
       "      <td>2</td>\n",
       "      <td>open</td>\n",
       "      <td>Ace Builders</td>\n",
       "      <td>Chicago</td>\n",
       "      <td>IL</td>\n",
       "    </tr>\n",
       "    <tr>\n",
       "      <th>6</th>\n",
       "      <td>2</td>\n",
       "      <td>closed</td>\n",
       "      <td>Ace Builders</td>\n",
       "      <td>Chicago</td>\n",
       "      <td>IL</td>\n",
       "    </tr>\n",
       "    <tr>\n",
       "      <th>7</th>\n",
       "      <td>2</td>\n",
       "      <td>open</td>\n",
       "      <td>Ace Builders</td>\n",
       "      <td>Chicago</td>\n",
       "      <td>IL</td>\n",
       "    </tr>\n",
       "    <tr>\n",
       "      <th>8</th>\n",
       "      <td>3</td>\n",
       "      <td>open</td>\n",
       "      <td>Cam Experts</td>\n",
       "      <td>Denver</td>\n",
       "      <td>CO</td>\n",
       "    </tr>\n",
       "    <tr>\n",
       "      <th>9</th>\n",
       "      <td>3</td>\n",
       "      <td>open</td>\n",
       "      <td>Cam Experts</td>\n",
       "      <td>Denver</td>\n",
       "      <td>CO</td>\n",
       "    </tr>\n",
       "    <tr>\n",
       "      <th>10</th>\n",
       "      <td>3</td>\n",
       "      <td>closed</td>\n",
       "      <td>Cam Experts</td>\n",
       "      <td>Denver</td>\n",
       "      <td>CO</td>\n",
       "    </tr>\n",
       "    <tr>\n",
       "      <th>11</th>\n",
       "      <td>3</td>\n",
       "      <td>closed</td>\n",
       "      <td>Cam Experts</td>\n",
       "      <td>Denver</td>\n",
       "      <td>CO</td>\n",
       "    </tr>\n",
       "    <tr>\n",
       "      <th>12</th>\n",
       "      <td>4</td>\n",
       "      <td>closed</td>\n",
       "      <td>Photo Pro Contractors</td>\n",
       "      <td>Austin</td>\n",
       "      <td>TX</td>\n",
       "    </tr>\n",
       "    <tr>\n",
       "      <th>13</th>\n",
       "      <td>4</td>\n",
       "      <td>closed</td>\n",
       "      <td>Photo Pro Contractors</td>\n",
       "      <td>Austin</td>\n",
       "      <td>TX</td>\n",
       "    </tr>\n",
       "    <tr>\n",
       "      <th>14</th>\n",
       "      <td>4</td>\n",
       "      <td>open</td>\n",
       "      <td>Photo Pro Contractors</td>\n",
       "      <td>Austin</td>\n",
       "      <td>TX</td>\n",
       "    </tr>\n",
       "    <tr>\n",
       "      <th>15</th>\n",
       "      <td>4</td>\n",
       "      <td>open</td>\n",
       "      <td>Photo Pro Contractors</td>\n",
       "      <td>Austin</td>\n",
       "      <td>TX</td>\n",
       "    </tr>\n",
       "    <tr>\n",
       "      <th>16</th>\n",
       "      <td>5</td>\n",
       "      <td>closed</td>\n",
       "      <td>ConstructIT</td>\n",
       "      <td>New York</td>\n",
       "      <td>NY</td>\n",
       "    </tr>\n",
       "    <tr>\n",
       "      <th>17</th>\n",
       "      <td>5</td>\n",
       "      <td>closed</td>\n",
       "      <td>ConstructIT</td>\n",
       "      <td>New York</td>\n",
       "      <td>NY</td>\n",
       "    </tr>\n",
       "    <tr>\n",
       "      <th>18</th>\n",
       "      <td>5</td>\n",
       "      <td>closed</td>\n",
       "      <td>ConstructIT</td>\n",
       "      <td>New York</td>\n",
       "      <td>NY</td>\n",
       "    </tr>\n",
       "    <tr>\n",
       "      <th>19</th>\n",
       "      <td>5</td>\n",
       "      <td>closed</td>\n",
       "      <td>ConstructIT</td>\n",
       "      <td>New York</td>\n",
       "      <td>NY</td>\n",
       "    </tr>\n",
       "    <tr>\n",
       "      <th>20</th>\n",
       "      <td>6</td>\n",
       "      <td>closed</td>\n",
       "      <td>Premier Builds</td>\n",
       "      <td>Seattle</td>\n",
       "      <td>WA</td>\n",
       "    </tr>\n",
       "    <tr>\n",
       "      <th>21</th>\n",
       "      <td>6</td>\n",
       "      <td>open</td>\n",
       "      <td>Premier Builds</td>\n",
       "      <td>Seattle</td>\n",
       "      <td>WA</td>\n",
       "    </tr>\n",
       "    <tr>\n",
       "      <th>22</th>\n",
       "      <td>6</td>\n",
       "      <td>closed</td>\n",
       "      <td>Premier Builds</td>\n",
       "      <td>Seattle</td>\n",
       "      <td>WA</td>\n",
       "    </tr>\n",
       "    <tr>\n",
       "      <th>23</th>\n",
       "      <td>6</td>\n",
       "      <td>closed</td>\n",
       "      <td>Premier Builds</td>\n",
       "      <td>Seattle</td>\n",
       "      <td>WA</td>\n",
       "    </tr>\n",
       "    <tr>\n",
       "      <th>24</th>\n",
       "      <td>7</td>\n",
       "      <td>closed</td>\n",
       "      <td>Vision Contracting</td>\n",
       "      <td>Boston</td>\n",
       "      <td>MA</td>\n",
       "    </tr>\n",
       "    <tr>\n",
       "      <th>25</th>\n",
       "      <td>7</td>\n",
       "      <td>closed</td>\n",
       "      <td>Vision Contracting</td>\n",
       "      <td>Boston</td>\n",
       "      <td>MA</td>\n",
       "    </tr>\n",
       "    <tr>\n",
       "      <th>26</th>\n",
       "      <td>7</td>\n",
       "      <td>closed</td>\n",
       "      <td>Vision Contracting</td>\n",
       "      <td>Boston</td>\n",
       "      <td>MA</td>\n",
       "    </tr>\n",
       "    <tr>\n",
       "      <th>27</th>\n",
       "      <td>7</td>\n",
       "      <td>open</td>\n",
       "      <td>Vision Contracting</td>\n",
       "      <td>Boston</td>\n",
       "      <td>MA</td>\n",
       "    </tr>\n",
       "    <tr>\n",
       "      <th>28</th>\n",
       "      <td>8</td>\n",
       "      <td>closed</td>\n",
       "      <td>Quality Co</td>\n",
       "      <td>Phoenix</td>\n",
       "      <td>AZ</td>\n",
       "    </tr>\n",
       "    <tr>\n",
       "      <th>29</th>\n",
       "      <td>8</td>\n",
       "      <td>closed</td>\n",
       "      <td>Quality Co</td>\n",
       "      <td>Phoenix</td>\n",
       "      <td>AZ</td>\n",
       "    </tr>\n",
       "    <tr>\n",
       "      <th>30</th>\n",
       "      <td>8</td>\n",
       "      <td>open</td>\n",
       "      <td>Quality Co</td>\n",
       "      <td>Phoenix</td>\n",
       "      <td>AZ</td>\n",
       "    </tr>\n",
       "    <tr>\n",
       "      <th>31</th>\n",
       "      <td>8</td>\n",
       "      <td>open</td>\n",
       "      <td>Quality Co</td>\n",
       "      <td>Phoenix</td>\n",
       "      <td>AZ</td>\n",
       "    </tr>\n",
       "    <tr>\n",
       "      <th>32</th>\n",
       "      <td>9</td>\n",
       "      <td>closed</td>\n",
       "      <td>Dynamic Contractors</td>\n",
       "      <td>Miami</td>\n",
       "      <td>FL</td>\n",
       "    </tr>\n",
       "    <tr>\n",
       "      <th>33</th>\n",
       "      <td>9</td>\n",
       "      <td>closed</td>\n",
       "      <td>Dynamic Contractors</td>\n",
       "      <td>Miami</td>\n",
       "      <td>FL</td>\n",
       "    </tr>\n",
       "    <tr>\n",
       "      <th>34</th>\n",
       "      <td>9</td>\n",
       "      <td>open</td>\n",
       "      <td>Dynamic Contractors</td>\n",
       "      <td>Miami</td>\n",
       "      <td>FL</td>\n",
       "    </tr>\n",
       "    <tr>\n",
       "      <th>35</th>\n",
       "      <td>9</td>\n",
       "      <td>open</td>\n",
       "      <td>Dynamic Contractors</td>\n",
       "      <td>Miami</td>\n",
       "      <td>FL</td>\n",
       "    </tr>\n",
       "    <tr>\n",
       "      <th>36</th>\n",
       "      <td>10</td>\n",
       "      <td>open</td>\n",
       "      <td>Innovative Builders</td>\n",
       "      <td>Los Angeles</td>\n",
       "      <td>CA</td>\n",
       "    </tr>\n",
       "    <tr>\n",
       "      <th>37</th>\n",
       "      <td>10</td>\n",
       "      <td>closed</td>\n",
       "      <td>Innovative Builders</td>\n",
       "      <td>Los Angeles</td>\n",
       "      <td>CA</td>\n",
       "    </tr>\n",
       "    <tr>\n",
       "      <th>38</th>\n",
       "      <td>10</td>\n",
       "      <td>closed</td>\n",
       "      <td>Innovative Builders</td>\n",
       "      <td>Los Angeles</td>\n",
       "      <td>CA</td>\n",
       "    </tr>\n",
       "    <tr>\n",
       "      <th>39</th>\n",
       "      <td>10</td>\n",
       "      <td>closed</td>\n",
       "      <td>Innovative Builders</td>\n",
       "      <td>Los Angeles</td>\n",
       "      <td>CA</td>\n",
       "    </tr>\n",
       "  </tbody>\n",
       "</table>\n",
       "</div>"
      ],
      "text/plain": [
       "    contractor_id  status                   name         city state\n",
       "0               1    open     Smith Construction        Omaha    NE\n",
       "1               1  closed     Smith Construction        Omaha    NE\n",
       "2               1    open     Smith Construction        Omaha    NE\n",
       "3               1  closed     Smith Construction        Omaha    NE\n",
       "4               2    open           Ace Builders      Chicago    IL\n",
       "5               2    open           Ace Builders      Chicago    IL\n",
       "6               2  closed           Ace Builders      Chicago    IL\n",
       "7               2    open           Ace Builders      Chicago    IL\n",
       "8               3    open            Cam Experts       Denver    CO\n",
       "9               3    open            Cam Experts       Denver    CO\n",
       "10              3  closed            Cam Experts       Denver    CO\n",
       "11              3  closed            Cam Experts       Denver    CO\n",
       "12              4  closed  Photo Pro Contractors       Austin    TX\n",
       "13              4  closed  Photo Pro Contractors       Austin    TX\n",
       "14              4    open  Photo Pro Contractors       Austin    TX\n",
       "15              4    open  Photo Pro Contractors       Austin    TX\n",
       "16              5  closed            ConstructIT     New York    NY\n",
       "17              5  closed            ConstructIT     New York    NY\n",
       "18              5  closed            ConstructIT     New York    NY\n",
       "19              5  closed            ConstructIT     New York    NY\n",
       "20              6  closed         Premier Builds      Seattle    WA\n",
       "21              6    open         Premier Builds      Seattle    WA\n",
       "22              6  closed         Premier Builds      Seattle    WA\n",
       "23              6  closed         Premier Builds      Seattle    WA\n",
       "24              7  closed     Vision Contracting       Boston    MA\n",
       "25              7  closed     Vision Contracting       Boston    MA\n",
       "26              7  closed     Vision Contracting       Boston    MA\n",
       "27              7    open     Vision Contracting       Boston    MA\n",
       "28              8  closed             Quality Co      Phoenix    AZ\n",
       "29              8  closed             Quality Co      Phoenix    AZ\n",
       "30              8    open             Quality Co      Phoenix    AZ\n",
       "31              8    open             Quality Co      Phoenix    AZ\n",
       "32              9  closed    Dynamic Contractors        Miami    FL\n",
       "33              9  closed    Dynamic Contractors        Miami    FL\n",
       "34              9    open    Dynamic Contractors        Miami    FL\n",
       "35              9    open    Dynamic Contractors        Miami    FL\n",
       "36             10    open    Innovative Builders  Los Angeles    CA\n",
       "37             10  closed    Innovative Builders  Los Angeles    CA\n",
       "38             10  closed    Innovative Builders  Los Angeles    CA\n",
       "39             10  closed    Innovative Builders  Los Angeles    CA"
      ]
     },
     "execution_count": 19,
     "metadata": {},
     "output_type": "execute_result"
    }
   ],
   "source": [
    "df = run_sql(\"SELECT jobs.contractor_id, jobs.status, contractors.name, contractors.city, contractors.state FROM jobs INNER JOIN contractors ON jobs.contractor_id = contractors.id\")\n",
    "df"
   ]
  },
  {
   "cell_type": "markdown",
   "id": "b177af84",
   "metadata": {},
   "source": [
    "### Question 8: Find contractors who haven't uploaded any photos."
   ]
  },
  {
   "cell_type": "code",
   "execution_count": 25,
   "id": "113f71a5",
   "metadata": {},
   "outputs": [
    {
     "data": {
      "text/html": [
       "<div>\n",
       "<style scoped>\n",
       "    .dataframe tbody tr th:only-of-type {\n",
       "        vertical-align: middle;\n",
       "    }\n",
       "\n",
       "    .dataframe tbody tr th {\n",
       "        vertical-align: top;\n",
       "    }\n",
       "\n",
       "    .dataframe thead th {\n",
       "        text-align: right;\n",
       "    }\n",
       "</style>\n",
       "<table border=\"1\" class=\"dataframe\">\n",
       "  <thead>\n",
       "    <tr style=\"text-align: right;\">\n",
       "      <th></th>\n",
       "      <th>contractor_id</th>\n",
       "    </tr>\n",
       "  </thead>\n",
       "  <tbody>\n",
       "    <tr>\n",
       "      <th>0</th>\n",
       "      <td>1</td>\n",
       "    </tr>\n",
       "    <tr>\n",
       "      <th>1</th>\n",
       "      <td>1</td>\n",
       "    </tr>\n",
       "    <tr>\n",
       "      <th>2</th>\n",
       "      <td>1</td>\n",
       "    </tr>\n",
       "    <tr>\n",
       "      <th>3</th>\n",
       "      <td>1</td>\n",
       "    </tr>\n",
       "    <tr>\n",
       "      <th>4</th>\n",
       "      <td>1</td>\n",
       "    </tr>\n",
       "    <tr>\n",
       "      <th>...</th>\n",
       "      <td>...</td>\n",
       "    </tr>\n",
       "    <tr>\n",
       "      <th>524</th>\n",
       "      <td>10</td>\n",
       "    </tr>\n",
       "    <tr>\n",
       "      <th>525</th>\n",
       "      <td>10</td>\n",
       "    </tr>\n",
       "    <tr>\n",
       "      <th>526</th>\n",
       "      <td>10</td>\n",
       "    </tr>\n",
       "    <tr>\n",
       "      <th>527</th>\n",
       "      <td>10</td>\n",
       "    </tr>\n",
       "    <tr>\n",
       "      <th>528</th>\n",
       "      <td>10</td>\n",
       "    </tr>\n",
       "  </tbody>\n",
       "</table>\n",
       "<p>529 rows × 1 columns</p>\n",
       "</div>"
      ],
      "text/plain": [
       "     contractor_id\n",
       "0                1\n",
       "1                1\n",
       "2                1\n",
       "3                1\n",
       "4                1\n",
       "..             ...\n",
       "524             10\n",
       "525             10\n",
       "526             10\n",
       "527             10\n",
       "528             10\n",
       "\n",
       "[529 rows x 1 columns]"
      ]
     },
     "execution_count": 25,
     "metadata": {},
     "output_type": "execute_result"
    }
   ],
   "source": [
    "df = run_sql(\"SELECT contractor_id FROM photos LEFT JOIN contractors ON contractors.id = photos.contractor_id\")\n",
    "df"
   ]
  },
  {
   "cell_type": "markdown",
   "id": "e6b34776",
   "metadata": {},
   "source": [
    "### Question 9: Get the contractor with the highest number of jobs."
   ]
  },
  {
   "cell_type": "code",
   "execution_count": null,
   "id": "696cb15f",
   "metadata": {},
   "outputs": [],
   "source": [
    "# Write your SQL query here\n"
   ]
  },
  {
   "cell_type": "markdown",
   "id": "765f448f",
   "metadata": {},
   "source": [
    "*Hint:* Group jobs by contractor, count them, order by count descending and limit 1."
   ]
  },
  {
   "cell_type": "markdown",
   "id": "510494ef",
   "metadata": {},
   "source": [
    "### Question 10: List jobs and the number of photos each has."
   ]
  },
  {
   "cell_type": "code",
   "execution_count": null,
   "id": "15342aa2",
   "metadata": {},
   "outputs": [],
   "source": [
    "# Write your SQL query here\n"
   ]
  },
  {
   "cell_type": "markdown",
   "id": "7e5e390f",
   "metadata": {},
   "source": [
    "*Hint:* Join jobs with photos and group by job id."
   ]
  },
  {
   "cell_type": "markdown",
   "id": "00df20c3",
   "metadata": {},
   "source": [
    "### Question 11: Find jobs that have no photos uploaded."
   ]
  },
  {
   "cell_type": "code",
   "execution_count": null,
   "id": "6c8e01e3",
   "metadata": {},
   "outputs": [],
   "source": [
    "# Write your SQL query here\n"
   ]
  },
  {
   "cell_type": "markdown",
   "id": "2cd97575",
   "metadata": {},
   "source": [
    "*Hint:* Left join jobs with photos and filter for NULL photo ids."
   ]
  },
  {
   "cell_type": "markdown",
   "id": "b0053b7f",
   "metadata": {},
   "source": [
    "### Question 12: For each contractor, list the first photo upload time across all jobs."
   ]
  },
  {
   "cell_type": "code",
   "execution_count": null,
   "id": "64e6ae75",
   "metadata": {},
   "outputs": [],
   "source": [
    "# Write your SQL query here\n"
   ]
  },
  {
   "cell_type": "markdown",
   "id": "dab8a0cf",
   "metadata": {},
   "source": [
    "*Hint:* Group photos by contractor and use MIN(upload_time)."
   ]
  },
  {
   "cell_type": "markdown",
   "id": "b2ef6892",
   "metadata": {},
   "source": [
    "## Level 3: Subqueries & CTEs"
   ]
  },
  {
   "cell_type": "markdown",
   "id": "d17da765",
   "metadata": {},
   "source": [
    "### Question 13: Find contractors with more jobs than the average contractor."
   ]
  },
  {
   "cell_type": "code",
   "execution_count": null,
   "id": "32e5e74d",
   "metadata": {},
   "outputs": [],
   "source": [
    "# Write your SQL query here\n"
   ]
  },
  {
   "cell_type": "markdown",
   "id": "2202c1e9",
   "metadata": {},
   "source": [
    "*Hint:* Compute average job count using a subquery or CTE."
   ]
  },
  {
   "cell_type": "markdown",
   "id": "4865a765",
   "metadata": {},
   "source": [
    "### Question 14: For each contractor, find their most recent job start date."
   ]
  },
  {
   "cell_type": "code",
   "execution_count": null,
   "id": "8144fe87",
   "metadata": {},
   "outputs": [],
   "source": [
    "# Write your SQL query here\n"
   ]
  },
  {
   "cell_type": "markdown",
   "id": "96e958fc",
   "metadata": {},
   "source": [
    "*Hint:* Group by contractor and take MAX(start_date)."
   ]
  },
  {
   "cell_type": "markdown",
   "id": "0c383196",
   "metadata": {},
   "source": [
    "### Question 15: Get the top 3 job sites with the most photos."
   ]
  },
  {
   "cell_type": "code",
   "execution_count": null,
   "id": "a4cdec64",
   "metadata": {},
   "outputs": [],
   "source": [
    "# Write your SQL query here\n"
   ]
  },
  {
   "cell_type": "markdown",
   "id": "11c8ee6a",
   "metadata": {},
   "source": [
    "*Hint:* Group photos by job_id, count them, order by count descending, limit 3."
   ]
  },
  {
   "cell_type": "markdown",
   "id": "9ea10fe1",
   "metadata": {},
   "source": [
    "### Question 16: List jobs that have above-average number of photos."
   ]
  },
  {
   "cell_type": "code",
   "execution_count": null,
   "id": "05b4d5f4",
   "metadata": {},
   "outputs": [],
   "source": [
    "# Write your SQL query here\n"
   ]
  },
  {
   "cell_type": "markdown",
   "id": "8e3790b9",
   "metadata": {},
   "source": [
    "*Hint:* Calculate average photo count per job in a subquery."
   ]
  },
  {
   "cell_type": "markdown",
   "id": "adb67ace",
   "metadata": {},
   "source": [
    "### Question 17: Find contractors who have at least 2 open jobs."
   ]
  },
  {
   "cell_type": "code",
   "execution_count": null,
   "id": "1c93ba54",
   "metadata": {},
   "outputs": [],
   "source": [
    "# Write your SQL query here\n"
   ]
  },
  {
   "cell_type": "markdown",
   "id": "b6e53db6",
   "metadata": {},
   "source": [
    "*Hint:* Filter jobs by status and count per contractor."
   ]
  },
  {
   "cell_type": "markdown",
   "id": "1f2173fd",
   "metadata": {},
   "source": [
    "## Level 4: Window Functions"
   ]
  },
  {
   "cell_type": "markdown",
   "id": "fefd60ee",
   "metadata": {},
   "source": [
    "### Question 18: For each job, rank photos by upload time."
   ]
  },
  {
   "cell_type": "code",
   "execution_count": null,
   "id": "aa6413d2",
   "metadata": {},
   "outputs": [],
   "source": [
    "# Write your SQL query here\n"
   ]
  },
  {
   "cell_type": "markdown",
   "id": "7b94a386",
   "metadata": {},
   "source": [
    "*Hint:* Use ROW_NUMBER() OVER (PARTITION BY job_id ORDER BY upload_time)."
   ]
  },
  {
   "cell_type": "markdown",
   "id": "8ed50e95",
   "metadata": {},
   "source": [
    "### Question 19: Find each contractor's most recent job using window functions."
   ]
  },
  {
   "cell_type": "code",
   "execution_count": null,
   "id": "1c32f340",
   "metadata": {},
   "outputs": [],
   "source": [
    "# Write your SQL query here\n"
   ]
  },
  {
   "cell_type": "markdown",
   "id": "6d82b086",
   "metadata": {},
   "source": [
    "*Hint:* Use ROW_NUMBER() over partition by contractor and order by start_date descending."
   ]
  },
  {
   "cell_type": "markdown",
   "id": "a4ca1eb0",
   "metadata": {},
   "source": [
    "### Question 20: For each contractor, compute the running total number of photos uploaded by date."
   ]
  },
  {
   "cell_type": "code",
   "execution_count": null,
   "id": "e0604491",
   "metadata": {},
   "outputs": [],
   "source": [
    "# Write your SQL query here\n"
   ]
  },
  {
   "cell_type": "markdown",
   "id": "06cd5691",
   "metadata": {},
   "source": [
    "*Hint:* Use a window SUM() over partition by contractor_id and order by date."
   ]
  },
  {
   "cell_type": "markdown",
   "id": "b8bb454f",
   "metadata": {},
   "source": [
    "### Question 21: Calculate the 7-day rolling count of photos for each contractor."
   ]
  },
  {
   "cell_type": "code",
   "execution_count": null,
   "id": "cb31cbdc",
   "metadata": {},
   "outputs": [],
   "source": [
    "# Write your SQL query here\n"
   ]
  },
  {
   "cell_type": "markdown",
   "id": "674b49b7",
   "metadata": {},
   "source": [
    "*Hint:* In SQLite, implement a correlated subquery since RANGE frames on dates aren't supported."
   ]
  },
  {
   "cell_type": "markdown",
   "id": "8a7e1bac",
   "metadata": {},
   "source": [
    "### Question 22: For each job, compute the difference in days between consecutive photo uploads."
   ]
  },
  {
   "cell_type": "code",
   "execution_count": null,
   "id": "9c1d86c3",
   "metadata": {},
   "outputs": [],
   "source": [
    "# Write your SQL query here\n"
   ]
  },
  {
   "cell_type": "markdown",
   "id": "117c56fb",
   "metadata": {},
   "source": [
    "*Hint:* Use LAG() to get previous upload_time and subtract dates."
   ]
  },
  {
   "cell_type": "markdown",
   "id": "9520c404",
   "metadata": {},
   "source": [
    "### Question 23: Rank contractors by total photo count across all jobs."
   ]
  },
  {
   "cell_type": "code",
   "execution_count": null,
   "id": "1e95ad76",
   "metadata": {},
   "outputs": [],
   "source": [
    "# Write your SQL query here\n"
   ]
  },
  {
   "cell_type": "markdown",
   "id": "e885bac9",
   "metadata": {},
   "source": [
    "*Hint:* Aggregate photos per contractor and apply RANK() function."
   ]
  },
  {
   "cell_type": "markdown",
   "id": "d6423ff6",
   "metadata": {},
   "source": [
    "## Level 5: Data Cleaning & Transformation"
   ]
  },
  {
   "cell_type": "markdown",
   "id": "8e761025",
   "metadata": {},
   "source": [
    "### Question 24: Standardize contractor names to uppercase."
   ]
  },
  {
   "cell_type": "code",
   "execution_count": null,
   "id": "1974bee3",
   "metadata": {},
   "outputs": [],
   "source": [
    "# Write your SQL query here\n"
   ]
  },
  {
   "cell_type": "markdown",
   "id": "3b5d0b63",
   "metadata": {},
   "source": [
    "*Hint:* Use UPPER() function on name."
   ]
  },
  {
   "cell_type": "markdown",
   "id": "476e5476",
   "metadata": {},
   "source": [
    "### Question 25: Extract year and month from job start date."
   ]
  },
  {
   "cell_type": "code",
   "execution_count": null,
   "id": "fe5da25b",
   "metadata": {},
   "outputs": [],
   "source": [
    "# Write your SQL query here\n"
   ]
  },
  {
   "cell_type": "markdown",
   "id": "253b449e",
   "metadata": {},
   "source": [
    "*Hint:* Use SUBSTR() or STRFTIME() to get year and month."
   ]
  },
  {
   "cell_type": "markdown",
   "id": "2b02c121",
   "metadata": {},
   "source": [
    "### Question 26: Flag jobs with missing contractor info."
   ]
  },
  {
   "cell_type": "code",
   "execution_count": null,
   "id": "ceb912d2",
   "metadata": {},
   "outputs": [],
   "source": [
    "# Write your SQL query here\n"
   ]
  },
  {
   "cell_type": "markdown",
   "id": "982ddf18",
   "metadata": {},
   "source": [
    "*Hint:* Left join jobs with contractors and filter for NULL contractor IDs."
   ]
  },
  {
   "cell_type": "markdown",
   "id": "5cca8521",
   "metadata": {},
   "source": [
    "### Question 27: Categorize jobs by duration: Short (<15 days), Medium (15-30 days), Long (>30 days)."
   ]
  },
  {
   "cell_type": "code",
   "execution_count": null,
   "id": "b8da6e12",
   "metadata": {},
   "outputs": [],
   "source": [
    "# Write your SQL query here\n"
   ]
  },
  {
   "cell_type": "markdown",
   "id": "389aae89",
   "metadata": {},
   "source": [
    "*Hint:* Use JULIANDAY() difference and CASE expression."
   ]
  },
  {
   "cell_type": "markdown",
   "id": "840411ef",
   "metadata": {},
   "source": [
    "### Question 28: Trim any spaces in contractor names and combine city/state into a single location field."
   ]
  },
  {
   "cell_type": "code",
   "execution_count": null,
   "id": "dfeed037",
   "metadata": {},
   "outputs": [],
   "source": [
    "# Write your SQL query here\n"
   ]
  },
  {
   "cell_type": "markdown",
   "id": "a39df8ec",
   "metadata": {},
   "source": [
    "*Hint:* Use TRIM() and concatenation."
   ]
  },
  {
   "cell_type": "markdown",
   "id": "fbfd3597",
   "metadata": {},
   "source": [
    "## Level 6: Performance & Scale"
   ]
  },
  {
   "cell_type": "markdown",
   "id": "d382d814",
   "metadata": {},
   "source": [
    "### Question 29: Compare query times before and after indexing job_id in photos table."
   ]
  },
  {
   "cell_type": "code",
   "execution_count": null,
   "id": "b627db5e",
   "metadata": {},
   "outputs": [],
   "source": [
    "# Write your SQL query here\n"
   ]
  },
  {
   "cell_type": "markdown",
   "id": "f121c941",
   "metadata": {},
   "source": [
    "*Hint:* Create an index on photos(job_id), run EXPLAIN QUERY PLAN, and compare the results."
   ]
  },
  {
   "cell_type": "markdown",
   "id": "c4d992cd",
   "metadata": {},
   "source": [
    "### Question 30: Rewrite a slow query using CTEs or a different join order."
   ]
  },
  {
   "cell_type": "code",
   "execution_count": null,
   "id": "ae9669b6",
   "metadata": {},
   "outputs": [],
   "source": [
    "# Write your SQL query here\n"
   ]
  },
  {
   "cell_type": "markdown",
   "id": "995e063b",
   "metadata": {},
   "source": [
    "*Hint:* Identify expensive joins and re-order them, or pre-aggregate with CTEs."
   ]
  },
  {
   "cell_type": "markdown",
   "id": "eaae4978",
   "metadata": {},
   "source": [
    "### Question 31: Identify the bottleneck of a query using EXPLAIN."
   ]
  },
  {
   "cell_type": "code",
   "execution_count": null,
   "id": "5112cc95",
   "metadata": {},
   "outputs": [],
   "source": [
    "# Write your SQL query here\n"
   ]
  },
  {
   "cell_type": "markdown",
   "id": "8beba634",
   "metadata": {},
   "source": [
    "*Hint:* Use EXPLAIN QUERY PLAN to analyze query steps and find which table scans are expensive."
   ]
  },
  {
   "cell_type": "markdown",
   "id": "af46bffb",
   "metadata": {},
   "source": [
    "## Level 7: ML Feature Engineering"
   ]
  },
  {
   "cell_type": "markdown",
   "id": "641d2dde",
   "metadata": {},
   "source": [
    "### Question 32: Average time between job start and first photo upload."
   ]
  },
  {
   "cell_type": "code",
   "execution_count": null,
   "id": "b992d104",
   "metadata": {},
   "outputs": [],
   "source": [
    "# Write your SQL query here\n"
   ]
  },
  {
   "cell_type": "markdown",
   "id": "921076bb",
   "metadata": {},
   "source": [
    "*Hint:* Calculate first photo upload per job and subtract start_date, then average across jobs."
   ]
  },
  {
   "cell_type": "markdown",
   "id": "f64dace7",
   "metadata": {},
   "source": [
    "### Question 33: Label contractors as 'Active' if they uploaded a photo in the last 30 days; otherwise 'Dormant'."
   ]
  },
  {
   "cell_type": "code",
   "execution_count": null,
   "id": "3c73b996",
   "metadata": {},
   "outputs": [],
   "source": [
    "# Write your SQL query here\n"
   ]
  },
  {
   "cell_type": "markdown",
   "id": "6853d697",
   "metadata": {},
   "source": [
    "*Hint:* Compare MAX(upload_time) per contractor to DATE('now','-30 day')."
   ]
  },
  {
   "cell_type": "markdown",
   "id": "8cc6e72e",
   "metadata": {},
   "source": [
    "### Question 34: Create job-level features: number_of_photos, days_to_first_photo, most_recent_upload_time."
   ]
  },
  {
   "cell_type": "code",
   "execution_count": null,
   "id": "9a800485",
   "metadata": {},
   "outputs": [],
   "source": [
    "# Write your SQL query here\n"
   ]
  },
  {
   "cell_type": "markdown",
   "id": "8a549cf0",
   "metadata": {},
   "source": [
    "*Hint:* Aggregate per job to compute photo count, first upload, last upload, and difference in days between start and first upload."
   ]
  },
  {
   "cell_type": "markdown",
   "id": "404f103d",
   "metadata": {},
   "source": [
    "### Question 35: Create weekly cohorts of contractors based on the week of their first photo upload and track retention."
   ]
  },
  {
   "cell_type": "code",
   "execution_count": null,
   "id": "e57cf69d",
   "metadata": {},
   "outputs": [],
   "source": [
    "# Write your SQL query here\n"
   ]
  },
  {
   "cell_type": "markdown",
   "id": "03093937",
   "metadata": {},
   "source": [
    "*Hint:* Use STRFTIME() to get week numbers and join across weeks to see repeat uploads."
   ]
  }
 ],
 "metadata": {
  "kernelspec": {
   "display_name": "Python 3",
   "language": "python",
   "name": "python3"
  },
  "language_info": {
   "codemirror_mode": {
    "name": "ipython",
    "version": 3
   },
   "file_extension": ".py",
   "mimetype": "text/x-python",
   "name": "python",
   "nbconvert_exporter": "python",
   "pygments_lexer": "ipython3",
   "version": "3.11.9"
  },
  "vscode": {
   "interpreter": {
    "hash": "aee8b7b246df8f9039afb4144a1f6fd8d2ca17a180786b69acc140d282b71a49"
   }
  }
 },
 "nbformat": 4,
 "nbformat_minor": 5
}
