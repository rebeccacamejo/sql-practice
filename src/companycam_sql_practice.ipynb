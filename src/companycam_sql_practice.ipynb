{
 "cells": [
  {
   "cell_type": "markdown",
   "id": "675fa850",
   "metadata": {},
   "source": [
    "# CompanyCam SQL Practice Notebook"
   ]
  },
  {
   "cell_type": "markdown",
   "id": "cf21a444",
   "metadata": {},
   "source": [
    "This notebook provides a series of SQL exercises based on a simulated CompanyCam database. Use the `run_sql()` function to execute queries and explore the data."
   ]
  },
  {
   "cell_type": "code",
   "execution_count": 2,
   "id": "2c9b76c6",
   "metadata": {},
   "outputs": [
    {
     "ename": "ModuleNotFoundError",
     "evalue": "No module named 'pandas'",
     "output_type": "error",
     "traceback": [
      "\u001b[31m---------------------------------------------------------------------------\u001b[39m",
      "\u001b[31mModuleNotFoundError\u001b[39m                       Traceback (most recent call last)",
      "\u001b[36mCell\u001b[39m\u001b[36m \u001b[39m\u001b[32mIn[2]\u001b[39m\u001b[32m, line 2\u001b[39m\n\u001b[32m      1\u001b[39m \u001b[38;5;28;01mimport\u001b[39;00m\u001b[38;5;250m \u001b[39m\u001b[34;01msqlite3\u001b[39;00m\n\u001b[32m----> \u001b[39m\u001b[32m2\u001b[39m \u001b[38;5;28;01mimport\u001b[39;00m\u001b[38;5;250m \u001b[39m\u001b[34;01mpandas\u001b[39;00m\u001b[38;5;250m \u001b[39m\u001b[38;5;28;01mas\u001b[39;00m\u001b[38;5;250m \u001b[39m\u001b[34;01mpd\u001b[39;00m\n\u001b[32m      4\u001b[39m DB_PATH = \u001b[33m\"\u001b[39m\u001b[33mcompanycam_sql_practice.db\u001b[39m\u001b[33m\"\u001b[39m\n\u001b[32m      6\u001b[39m \u001b[38;5;28;01mdef\u001b[39;00m\u001b[38;5;250m \u001b[39m\u001b[34mrun_sql\u001b[39m(query, params=\u001b[38;5;28;01mNone\u001b[39;00m):\n",
      "\u001b[31mModuleNotFoundError\u001b[39m: No module named 'pandas'"
     ]
    }
   ],
   "source": [
    "\n",
    "import sqlite3\n",
    "import pandas as pd\n",
    "\n",
    "DB_PATH = \"companycam_sql_practice.db\"\n",
    "\n",
    "def run_sql(query, params=None):\n",
    "    \"\"\"\n",
    "    Execute a SQL query against the SQLite database and return a DataFrame.\n",
    "    \"\"\"\n",
    "    with sqlite3.connect(DB_PATH) as conn:\n",
    "        return pd.read_sql_query(query, conn, params=params)\n",
    "\n",
    "# Example usage:\n",
    "# df = run_sql(\"SELECT * FROM contractors LIMIT 5\")\n",
    "# df\n"
   ]
  },
  {
   "cell_type": "markdown",
   "id": "e3665d4b",
   "metadata": {},
   "source": [
    "## Level 1: Fundamentals"
   ]
  },
  {
   "cell_type": "markdown",
   "id": "f8af2dcb",
   "metadata": {},
   "source": [
    "### Question 1: Get all contractors located in Miami."
   ]
  },
  {
   "cell_type": "code",
   "execution_count": null,
   "id": "7c014ebe",
   "metadata": {},
   "outputs": [],
   "source": [
    "# Write your SQL query here\n"
   ]
  },
  {
   "cell_type": "markdown",
   "id": "13d99a5b",
   "metadata": {},
   "source": [
    "*Hint:* Use SELECT with WHERE on city."
   ]
  },
  {
   "cell_type": "markdown",
   "id": "633daeda",
   "metadata": {},
   "source": [
    "### Question 2: Find the 5 most recent uploaded photos."
   ]
  },
  {
   "cell_type": "code",
   "execution_count": null,
   "id": "01a54bb3",
   "metadata": {},
   "outputs": [],
   "source": [
    "# Write your SQL query here\n"
   ]
  },
  {
   "cell_type": "markdown",
   "id": "74890493",
   "metadata": {},
   "source": [
    "*Hint:* Order by upload_time descending and limit."
   ]
  },
  {
   "cell_type": "markdown",
   "id": "4f0906dc",
   "metadata": {},
   "source": [
    "### Question 3: Count how many jobs each contractor has."
   ]
  },
  {
   "cell_type": "code",
   "execution_count": null,
   "id": "43b28978",
   "metadata": {},
   "outputs": [],
   "source": [
    "# Write your SQL query here\n"
   ]
  },
  {
   "cell_type": "markdown",
   "id": "f57af246",
   "metadata": {},
   "source": [
    "*Hint:* Aggregate by contractor_id and count."
   ]
  },
  {
   "cell_type": "markdown",
   "id": "309eadc6",
   "metadata": {},
   "source": [
    "### Question 4: Get average photo size per job."
   ]
  },
  {
   "cell_type": "code",
   "execution_count": null,
   "id": "6ffe6447",
   "metadata": {},
   "outputs": [],
   "source": [
    "# Write your SQL query here\n"
   ]
  },
  {
   "cell_type": "markdown",
   "id": "28ce977e",
   "metadata": {},
   "source": [
    "*Hint:* Group by job_id and use AVG."
   ]
  },
  {
   "cell_type": "markdown",
   "id": "065d7d2d",
   "metadata": {},
   "source": [
    "### Question 5: Find all contractors whose name contains 'Builders'."
   ]
  },
  {
   "cell_type": "code",
   "execution_count": null,
   "id": "7fb6910d",
   "metadata": {},
   "outputs": [],
   "source": [
    "# Write your SQL query here\n"
   ]
  },
  {
   "cell_type": "markdown",
   "id": "b841a32c",
   "metadata": {},
   "source": [
    "*Hint:* Use LIKE with wildcard."
   ]
  },
  {
   "cell_type": "markdown",
   "id": "48413efd",
   "metadata": {},
   "source": [
    "### Question 6: List the names of contractors in alphabetical order."
   ]
  },
  {
   "cell_type": "code",
   "execution_count": null,
   "id": "f1f09c46",
   "metadata": {},
   "outputs": [],
   "source": [
    "# Write your SQL query here\n"
   ]
  },
  {
   "cell_type": "markdown",
   "id": "e47a1e34",
   "metadata": {},
   "source": [
    "*Hint:* ORDER BY name ascending."
   ]
  },
  {
   "cell_type": "markdown",
   "id": "a20efbd1",
   "metadata": {},
   "source": [
    "## Level 2: Joins"
   ]
  },
  {
   "cell_type": "markdown",
   "id": "97e86e4e",
   "metadata": {},
   "source": [
    "### Question 7: List all job sites and their assigned contractors."
   ]
  },
  {
   "cell_type": "code",
   "execution_count": null,
   "id": "f1b2f923",
   "metadata": {},
   "outputs": [],
   "source": [
    "# Write your SQL query here\n"
   ]
  },
  {
   "cell_type": "markdown",
   "id": "cd913ce0",
   "metadata": {},
   "source": [
    "*Hint:* Join jobs with contractors."
   ]
  },
  {
   "cell_type": "markdown",
   "id": "b177af84",
   "metadata": {},
   "source": [
    "### Question 8: Find contractors who haven't uploaded any photos."
   ]
  },
  {
   "cell_type": "code",
   "execution_count": null,
   "id": "113f71a5",
   "metadata": {},
   "outputs": [],
   "source": [
    "# Write your SQL query here\n"
   ]
  },
  {
   "cell_type": "markdown",
   "id": "b759ff67",
   "metadata": {},
   "source": [
    "*Hint:* Left join contractors with photos and filter for NULL photo ids."
   ]
  },
  {
   "cell_type": "markdown",
   "id": "e6b34776",
   "metadata": {},
   "source": [
    "### Question 9: Get the contractor with the highest number of jobs."
   ]
  },
  {
   "cell_type": "code",
   "execution_count": null,
   "id": "696cb15f",
   "metadata": {},
   "outputs": [],
   "source": [
    "# Write your SQL query here\n"
   ]
  },
  {
   "cell_type": "markdown",
   "id": "765f448f",
   "metadata": {},
   "source": [
    "*Hint:* Group jobs by contractor, count them, order by count descending and limit 1."
   ]
  },
  {
   "cell_type": "markdown",
   "id": "510494ef",
   "metadata": {},
   "source": [
    "### Question 10: List jobs and the number of photos each has."
   ]
  },
  {
   "cell_type": "code",
   "execution_count": null,
   "id": "15342aa2",
   "metadata": {},
   "outputs": [],
   "source": [
    "# Write your SQL query here\n"
   ]
  },
  {
   "cell_type": "markdown",
   "id": "7e5e390f",
   "metadata": {},
   "source": [
    "*Hint:* Join jobs with photos and group by job id."
   ]
  },
  {
   "cell_type": "markdown",
   "id": "00df20c3",
   "metadata": {},
   "source": [
    "### Question 11: Find jobs that have no photos uploaded."
   ]
  },
  {
   "cell_type": "code",
   "execution_count": null,
   "id": "6c8e01e3",
   "metadata": {},
   "outputs": [],
   "source": [
    "# Write your SQL query here\n"
   ]
  },
  {
   "cell_type": "markdown",
   "id": "2cd97575",
   "metadata": {},
   "source": [
    "*Hint:* Left join jobs with photos and filter for NULL photo ids."
   ]
  },
  {
   "cell_type": "markdown",
   "id": "b0053b7f",
   "metadata": {},
   "source": [
    "### Question 12: For each contractor, list the first photo upload time across all jobs."
   ]
  },
  {
   "cell_type": "code",
   "execution_count": null,
   "id": "64e6ae75",
   "metadata": {},
   "outputs": [],
   "source": [
    "# Write your SQL query here\n"
   ]
  },
  {
   "cell_type": "markdown",
   "id": "dab8a0cf",
   "metadata": {},
   "source": [
    "*Hint:* Group photos by contractor and use MIN(upload_time)."
   ]
  },
  {
   "cell_type": "markdown",
   "id": "b2ef6892",
   "metadata": {},
   "source": [
    "## Level 3: Subqueries & CTEs"
   ]
  },
  {
   "cell_type": "markdown",
   "id": "d17da765",
   "metadata": {},
   "source": [
    "### Question 13: Find contractors with more jobs than the average contractor."
   ]
  },
  {
   "cell_type": "code",
   "execution_count": null,
   "id": "32e5e74d",
   "metadata": {},
   "outputs": [],
   "source": [
    "# Write your SQL query here\n"
   ]
  },
  {
   "cell_type": "markdown",
   "id": "2202c1e9",
   "metadata": {},
   "source": [
    "*Hint:* Compute average job count using a subquery or CTE."
   ]
  },
  {
   "cell_type": "markdown",
   "id": "4865a765",
   "metadata": {},
   "source": [
    "### Question 14: For each contractor, find their most recent job start date."
   ]
  },
  {
   "cell_type": "code",
   "execution_count": null,
   "id": "8144fe87",
   "metadata": {},
   "outputs": [],
   "source": [
    "# Write your SQL query here\n"
   ]
  },
  {
   "cell_type": "markdown",
   "id": "96e958fc",
   "metadata": {},
   "source": [
    "*Hint:* Group by contractor and take MAX(start_date)."
   ]
  },
  {
   "cell_type": "markdown",
   "id": "0c383196",
   "metadata": {},
   "source": [
    "### Question 15: Get the top 3 job sites with the most photos."
   ]
  },
  {
   "cell_type": "code",
   "execution_count": null,
   "id": "a4cdec64",
   "metadata": {},
   "outputs": [],
   "source": [
    "# Write your SQL query here\n"
   ]
  },
  {
   "cell_type": "markdown",
   "id": "11c8ee6a",
   "metadata": {},
   "source": [
    "*Hint:* Group photos by job_id, count them, order by count descending, limit 3."
   ]
  },
  {
   "cell_type": "markdown",
   "id": "9ea10fe1",
   "metadata": {},
   "source": [
    "### Question 16: List jobs that have above-average number of photos."
   ]
  },
  {
   "cell_type": "code",
   "execution_count": null,
   "id": "05b4d5f4",
   "metadata": {},
   "outputs": [],
   "source": [
    "# Write your SQL query here\n"
   ]
  },
  {
   "cell_type": "markdown",
   "id": "8e3790b9",
   "metadata": {},
   "source": [
    "*Hint:* Calculate average photo count per job in a subquery."
   ]
  },
  {
   "cell_type": "markdown",
   "id": "adb67ace",
   "metadata": {},
   "source": [
    "### Question 17: Find contractors who have at least 2 open jobs."
   ]
  },
  {
   "cell_type": "code",
   "execution_count": null,
   "id": "1c93ba54",
   "metadata": {},
   "outputs": [],
   "source": [
    "# Write your SQL query here\n"
   ]
  },
  {
   "cell_type": "markdown",
   "id": "b6e53db6",
   "metadata": {},
   "source": [
    "*Hint:* Filter jobs by status and count per contractor."
   ]
  },
  {
   "cell_type": "markdown",
   "id": "1f2173fd",
   "metadata": {},
   "source": [
    "## Level 4: Window Functions"
   ]
  },
  {
   "cell_type": "markdown",
   "id": "fefd60ee",
   "metadata": {},
   "source": [
    "### Question 18: For each job, rank photos by upload time."
   ]
  },
  {
   "cell_type": "code",
   "execution_count": null,
   "id": "aa6413d2",
   "metadata": {},
   "outputs": [],
   "source": [
    "# Write your SQL query here\n"
   ]
  },
  {
   "cell_type": "markdown",
   "id": "7b94a386",
   "metadata": {},
   "source": [
    "*Hint:* Use ROW_NUMBER() OVER (PARTITION BY job_id ORDER BY upload_time)."
   ]
  },
  {
   "cell_type": "markdown",
   "id": "8ed50e95",
   "metadata": {},
   "source": [
    "### Question 19: Find each contractor's most recent job using window functions."
   ]
  },
  {
   "cell_type": "code",
   "execution_count": null,
   "id": "1c32f340",
   "metadata": {},
   "outputs": [],
   "source": [
    "# Write your SQL query here\n"
   ]
  },
  {
   "cell_type": "markdown",
   "id": "6d82b086",
   "metadata": {},
   "source": [
    "*Hint:* Use ROW_NUMBER() over partition by contractor and order by start_date descending."
   ]
  },
  {
   "cell_type": "markdown",
   "id": "a4ca1eb0",
   "metadata": {},
   "source": [
    "### Question 20: For each contractor, compute the running total number of photos uploaded by date."
   ]
  },
  {
   "cell_type": "code",
   "execution_count": null,
   "id": "e0604491",
   "metadata": {},
   "outputs": [],
   "source": [
    "# Write your SQL query here\n"
   ]
  },
  {
   "cell_type": "markdown",
   "id": "06cd5691",
   "metadata": {},
   "source": [
    "*Hint:* Use a window SUM() over partition by contractor_id and order by date."
   ]
  },
  {
   "cell_type": "markdown",
   "id": "b8bb454f",
   "metadata": {},
   "source": [
    "### Question 21: Calculate the 7-day rolling count of photos for each contractor."
   ]
  },
  {
   "cell_type": "code",
   "execution_count": null,
   "id": "cb31cbdc",
   "metadata": {},
   "outputs": [],
   "source": [
    "# Write your SQL query here\n"
   ]
  },
  {
   "cell_type": "markdown",
   "id": "674b49b7",
   "metadata": {},
   "source": [
    "*Hint:* In SQLite, implement a correlated subquery since RANGE frames on dates aren't supported."
   ]
  },
  {
   "cell_type": "markdown",
   "id": "8a7e1bac",
   "metadata": {},
   "source": [
    "### Question 22: For each job, compute the difference in days between consecutive photo uploads."
   ]
  },
  {
   "cell_type": "code",
   "execution_count": null,
   "id": "9c1d86c3",
   "metadata": {},
   "outputs": [],
   "source": [
    "# Write your SQL query here\n"
   ]
  },
  {
   "cell_type": "markdown",
   "id": "117c56fb",
   "metadata": {},
   "source": [
    "*Hint:* Use LAG() to get previous upload_time and subtract dates."
   ]
  },
  {
   "cell_type": "markdown",
   "id": "9520c404",
   "metadata": {},
   "source": [
    "### Question 23: Rank contractors by total photo count across all jobs."
   ]
  },
  {
   "cell_type": "code",
   "execution_count": null,
   "id": "1e95ad76",
   "metadata": {},
   "outputs": [],
   "source": [
    "# Write your SQL query here\n"
   ]
  },
  {
   "cell_type": "markdown",
   "id": "e885bac9",
   "metadata": {},
   "source": [
    "*Hint:* Aggregate photos per contractor and apply RANK() function."
   ]
  },
  {
   "cell_type": "markdown",
   "id": "d6423ff6",
   "metadata": {},
   "source": [
    "## Level 5: Data Cleaning & Transformation"
   ]
  },
  {
   "cell_type": "markdown",
   "id": "8e761025",
   "metadata": {},
   "source": [
    "### Question 24: Standardize contractor names to uppercase."
   ]
  },
  {
   "cell_type": "code",
   "execution_count": null,
   "id": "1974bee3",
   "metadata": {},
   "outputs": [],
   "source": [
    "# Write your SQL query here\n"
   ]
  },
  {
   "cell_type": "markdown",
   "id": "3b5d0b63",
   "metadata": {},
   "source": [
    "*Hint:* Use UPPER() function on name."
   ]
  },
  {
   "cell_type": "markdown",
   "id": "476e5476",
   "metadata": {},
   "source": [
    "### Question 25: Extract year and month from job start date."
   ]
  },
  {
   "cell_type": "code",
   "execution_count": null,
   "id": "fe5da25b",
   "metadata": {},
   "outputs": [],
   "source": [
    "# Write your SQL query here\n"
   ]
  },
  {
   "cell_type": "markdown",
   "id": "253b449e",
   "metadata": {},
   "source": [
    "*Hint:* Use SUBSTR() or STRFTIME() to get year and month."
   ]
  },
  {
   "cell_type": "markdown",
   "id": "2b02c121",
   "metadata": {},
   "source": [
    "### Question 26: Flag jobs with missing contractor info."
   ]
  },
  {
   "cell_type": "code",
   "execution_count": null,
   "id": "ceb912d2",
   "metadata": {},
   "outputs": [],
   "source": [
    "# Write your SQL query here\n"
   ]
  },
  {
   "cell_type": "markdown",
   "id": "982ddf18",
   "metadata": {},
   "source": [
    "*Hint:* Left join jobs with contractors and filter for NULL contractor IDs."
   ]
  },
  {
   "cell_type": "markdown",
   "id": "5cca8521",
   "metadata": {},
   "source": [
    "### Question 27: Categorize jobs by duration: Short (<15 days), Medium (15-30 days), Long (>30 days)."
   ]
  },
  {
   "cell_type": "code",
   "execution_count": null,
   "id": "b8da6e12",
   "metadata": {},
   "outputs": [],
   "source": [
    "# Write your SQL query here\n"
   ]
  },
  {
   "cell_type": "markdown",
   "id": "389aae89",
   "metadata": {},
   "source": [
    "*Hint:* Use JULIANDAY() difference and CASE expression."
   ]
  },
  {
   "cell_type": "markdown",
   "id": "840411ef",
   "metadata": {},
   "source": [
    "### Question 28: Trim any spaces in contractor names and combine city/state into a single location field."
   ]
  },
  {
   "cell_type": "code",
   "execution_count": null,
   "id": "dfeed037",
   "metadata": {},
   "outputs": [],
   "source": [
    "# Write your SQL query here\n"
   ]
  },
  {
   "cell_type": "markdown",
   "id": "a39df8ec",
   "metadata": {},
   "source": [
    "*Hint:* Use TRIM() and concatenation."
   ]
  },
  {
   "cell_type": "markdown",
   "id": "fbfd3597",
   "metadata": {},
   "source": [
    "## Level 6: Performance & Scale"
   ]
  },
  {
   "cell_type": "markdown",
   "id": "d382d814",
   "metadata": {},
   "source": [
    "### Question 29: Compare query times before and after indexing job_id in photos table."
   ]
  },
  {
   "cell_type": "code",
   "execution_count": null,
   "id": "b627db5e",
   "metadata": {},
   "outputs": [],
   "source": [
    "# Write your SQL query here\n"
   ]
  },
  {
   "cell_type": "markdown",
   "id": "f121c941",
   "metadata": {},
   "source": [
    "*Hint:* Create an index on photos(job_id), run EXPLAIN QUERY PLAN, and compare the results."
   ]
  },
  {
   "cell_type": "markdown",
   "id": "c4d992cd",
   "metadata": {},
   "source": [
    "### Question 30: Rewrite a slow query using CTEs or a different join order."
   ]
  },
  {
   "cell_type": "code",
   "execution_count": null,
   "id": "ae9669b6",
   "metadata": {},
   "outputs": [],
   "source": [
    "# Write your SQL query here\n"
   ]
  },
  {
   "cell_type": "markdown",
   "id": "995e063b",
   "metadata": {},
   "source": [
    "*Hint:* Identify expensive joins and re-order them, or pre-aggregate with CTEs."
   ]
  },
  {
   "cell_type": "markdown",
   "id": "eaae4978",
   "metadata": {},
   "source": [
    "### Question 31: Identify the bottleneck of a query using EXPLAIN."
   ]
  },
  {
   "cell_type": "code",
   "execution_count": null,
   "id": "5112cc95",
   "metadata": {},
   "outputs": [],
   "source": [
    "# Write your SQL query here\n"
   ]
  },
  {
   "cell_type": "markdown",
   "id": "8beba634",
   "metadata": {},
   "source": [
    "*Hint:* Use EXPLAIN QUERY PLAN to analyze query steps and find which table scans are expensive."
   ]
  },
  {
   "cell_type": "markdown",
   "id": "af46bffb",
   "metadata": {},
   "source": [
    "## Level 7: ML Feature Engineering"
   ]
  },
  {
   "cell_type": "markdown",
   "id": "641d2dde",
   "metadata": {},
   "source": [
    "### Question 32: Average time between job start and first photo upload."
   ]
  },
  {
   "cell_type": "code",
   "execution_count": null,
   "id": "b992d104",
   "metadata": {},
   "outputs": [],
   "source": [
    "# Write your SQL query here\n"
   ]
  },
  {
   "cell_type": "markdown",
   "id": "921076bb",
   "metadata": {},
   "source": [
    "*Hint:* Calculate first photo upload per job and subtract start_date, then average across jobs."
   ]
  },
  {
   "cell_type": "markdown",
   "id": "f64dace7",
   "metadata": {},
   "source": [
    "### Question 33: Label contractors as 'Active' if they uploaded a photo in the last 30 days; otherwise 'Dormant'."
   ]
  },
  {
   "cell_type": "code",
   "execution_count": null,
   "id": "3c73b996",
   "metadata": {},
   "outputs": [],
   "source": [
    "# Write your SQL query here\n"
   ]
  },
  {
   "cell_type": "markdown",
   "id": "6853d697",
   "metadata": {},
   "source": [
    "*Hint:* Compare MAX(upload_time) per contractor to DATE('now','-30 day')."
   ]
  },
  {
   "cell_type": "markdown",
   "id": "8cc6e72e",
   "metadata": {},
   "source": [
    "### Question 34: Create job-level features: number_of_photos, days_to_first_photo, most_recent_upload_time."
   ]
  },
  {
   "cell_type": "code",
   "execution_count": null,
   "id": "9a800485",
   "metadata": {},
   "outputs": [],
   "source": [
    "# Write your SQL query here\n"
   ]
  },
  {
   "cell_type": "markdown",
   "id": "8a549cf0",
   "metadata": {},
   "source": [
    "*Hint:* Aggregate per job to compute photo count, first upload, last upload, and difference in days between start and first upload."
   ]
  },
  {
   "cell_type": "markdown",
   "id": "404f103d",
   "metadata": {},
   "source": [
    "### Question 35: Create weekly cohorts of contractors based on the week of their first photo upload and track retention."
   ]
  },
  {
   "cell_type": "code",
   "execution_count": null,
   "id": "e57cf69d",
   "metadata": {},
   "outputs": [],
   "source": [
    "# Write your SQL query here\n"
   ]
  },
  {
   "cell_type": "markdown",
   "id": "03093937",
   "metadata": {},
   "source": [
    "*Hint:* Use STRFTIME() to get week numbers and join across weeks to see repeat uploads."
   ]
  }
 ],
 "metadata": {
  "kernelspec": {
   "display_name": "Python 3",
   "language": "python",
   "name": "python3"
  },
  "language_info": {
   "codemirror_mode": {
    "name": "ipython",
    "version": 3
   },
   "file_extension": ".py",
   "mimetype": "text/x-python",
   "name": "python",
   "nbconvert_exporter": "python",
   "pygments_lexer": "ipython3",
   "version": "3.11.9"
  },
  "vscode": {
   "interpreter": {
    "hash": "aee8b7b246df8f9039afb4144a1f6fd8d2ca17a180786b69acc140d282b71a49"
   }
  }
 },
 "nbformat": 4,
 "nbformat_minor": 5
}
